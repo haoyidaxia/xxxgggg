{
 "cells": [
  {
   "cell_type": "code",
   "execution_count": 1,
   "id": "8d9aa378-7945-46dc-8922-3b488939cde0",
   "metadata": {},
   "outputs": [
    {
     "name": "stdout",
     "output_type": "stream",
     "text": [
      "模型已保存为 xgboost_model.pkl\n"
     ]
    }
   ],
   "source": [
    "import pandas as pd\n",
    "import numpy as np\n",
    "import xgboost as xgb\n",
    "import pickle\n",
    "from sklearn.datasets import load_iris\n",
    "from sklearn.model_selection import train_test_split\n",
    "\n",
    "data = load_iris()\n",
    "X = pd.DataFrame(data.data, columns=data.feature_names)\n",
    "y = pd.Series(data.target)\n",
    "\n",
    "X_train, X_test, y_train, y_test = train_test_split(X, y, test_size=0.2, random_state=42)\n",
    "\n",
    "model = xgb.XGBClassifier(eval_metric='mlogloss')\n",
    "model.fit(X_train, y_train)\n",
    "\n",
    "with open('xgboost_model.pkl', 'wb') as file:\n",
    "    pickle.dump(model, file)\n",
    "\n",
    "print(\"模型已保存为 xgboost_model.pkl\")"
   ]
  },
  {
   "cell_type": "code",
   "execution_count": 4,
   "id": "27cd4993-5fd8-4bef-9cb0-4112b3940cef",
   "metadata": {
    "scrolled": true
   },
   "outputs": [
    {
     "name": "stderr",
     "output_type": "stream",
     "text": [
      "2025-08-08 14:49:45.929 WARNING streamlit.runtime.scriptrunner_utils.script_run_context: Thread 'MainThread': missing ScriptRunContext! This warning can be ignored when running in bare mode.\n",
      "2025-08-08 14:49:45.973 \n",
      "  \u001b[33m\u001b[1mWarning:\u001b[0m to view this Streamlit app on a browser, run it with the following\n",
      "  command:\n",
      "\n",
      "    streamlit run C:\\ANACONDA\\Lib\\site-packages\\ipykernel_launcher.py [ARGUMENTS]\n",
      "2025-08-08 14:49:45.974 Thread 'MainThread': missing ScriptRunContext! This warning can be ignored when running in bare mode.\n",
      "2025-08-08 14:49:45.974 Thread 'MainThread': missing ScriptRunContext! This warning can be ignored when running in bare mode.\n",
      "2025-08-08 14:49:45.975 Thread 'MainThread': missing ScriptRunContext! This warning can be ignored when running in bare mode.\n",
      "2025-08-08 14:49:45.975 Thread 'MainThread': missing ScriptRunContext! This warning can be ignored when running in bare mode.\n",
      "2025-08-08 14:49:45.976 Thread 'MainThread': missing ScriptRunContext! This warning can be ignored when running in bare mode.\n",
      "2025-08-08 14:49:45.976 Thread 'MainThread': missing ScriptRunContext! This warning can be ignored when running in bare mode.\n",
      "2025-08-08 14:49:45.976 Thread 'MainThread': missing ScriptRunContext! This warning can be ignored when running in bare mode.\n",
      "2025-08-08 14:49:45.977 Thread 'MainThread': missing ScriptRunContext! This warning can be ignored when running in bare mode.\n",
      "2025-08-08 14:49:45.977 Thread 'MainThread': missing ScriptRunContext! This warning can be ignored when running in bare mode.\n",
      "2025-08-08 14:49:45.978 Thread 'MainThread': missing ScriptRunContext! This warning can be ignored when running in bare mode.\n",
      "2025-08-08 14:49:45.978 Thread 'MainThread': missing ScriptRunContext! This warning can be ignored when running in bare mode.\n",
      "2025-08-08 14:49:45.978 Thread 'MainThread': missing ScriptRunContext! This warning can be ignored when running in bare mode.\n",
      "2025-08-08 14:49:45.978 Thread 'MainThread': missing ScriptRunContext! This warning can be ignored when running in bare mode.\n",
      "2025-08-08 14:49:45.979 Thread 'MainThread': missing ScriptRunContext! This warning can be ignored when running in bare mode.\n",
      "2025-08-08 14:49:45.979 Thread 'MainThread': missing ScriptRunContext! This warning can be ignored when running in bare mode.\n",
      "2025-08-08 14:49:45.979 Thread 'MainThread': missing ScriptRunContext! This warning can be ignored when running in bare mode.\n",
      "2025-08-08 14:49:45.980 Thread 'MainThread': missing ScriptRunContext! This warning can be ignored when running in bare mode.\n",
      "2025-08-08 14:49:45.980 Thread 'MainThread': missing ScriptRunContext! This warning can be ignored when running in bare mode.\n",
      "2025-08-08 14:49:45.980 Thread 'MainThread': missing ScriptRunContext! This warning can be ignored when running in bare mode.\n",
      "2025-08-08 14:49:45.981 Thread 'MainThread': missing ScriptRunContext! This warning can be ignored when running in bare mode.\n",
      "2025-08-08 14:49:45.981 Thread 'MainThread': missing ScriptRunContext! This warning can be ignored when running in bare mode.\n",
      "2025-08-08 14:49:45.982 Thread 'MainThread': missing ScriptRunContext! This warning can be ignored when running in bare mode.\n",
      "2025-08-08 14:49:45.982 Thread 'MainThread': missing ScriptRunContext! This warning can be ignored when running in bare mode.\n",
      "2025-08-08 14:49:45.983 Thread 'MainThread': missing ScriptRunContext! This warning can be ignored when running in bare mode.\n",
      "2025-08-08 14:49:45.983 Thread 'MainThread': missing ScriptRunContext! This warning can be ignored when running in bare mode.\n",
      "2025-08-08 14:49:45.983 Thread 'MainThread': missing ScriptRunContext! This warning can be ignored when running in bare mode.\n",
      "2025-08-08 14:49:45.984 Thread 'MainThread': missing ScriptRunContext! This warning can be ignored when running in bare mode.\n",
      "2025-08-08 14:49:45.984 Thread 'MainThread': missing ScriptRunContext! This warning can be ignored when running in bare mode.\n"
     ]
    },
    {
     "name": "stdout",
     "output_type": "stream",
     "text": [
      "当前工作目录是：C:\\Users\\19104\n"
     ]
    }
   ],
   "source": [
    "import streamlit as st  # 导入 Streamlit 库，用于创建 Web 应用\n",
    "import pandas as pd  # 导入 Pandas 库，用于数据处理\n",
    "import pickle  # 导入 pickle 库，用于加载已训练的模型\n",
    "import os  # 导入 os 库，用于处理文件路径\n",
    "import shap  # 导入 SHAP 库，用于解释模型\n",
    "\n",
    "# 加载模型\n",
    "# 获取当前文件的目录\n",
    "current_dir = os.getcwd()\n",
    "print(f\"当前工作目录是：{current_dir}\")\n",
    "# 组合当前目录与模型文件名，生成模型的完整路径\n",
    "model_path = os.path.join(current_dir, 'xgboost_model.pkl')\n",
    "# 打开并加载模型\n",
    "with open(model_path, 'rb') as file:\n",
    "    model = pickle.load(file)  # 使用 pickle 加载模型文件\n",
    "\n",
    "# 设置 Streamlit 应用的标题\n",
    "st.title(\"XGBoost 模型预测\")\n",
    "\n",
    "# 在侧边栏中输入特征\n",
    "st.sidebar.header(\"输入特征\")  # 侧边栏的标题\n",
    "# 使用滑动条接收花萼长度，设置范围为 0.0 到 10.0，默认值为 5.0\n",
    "sepal_length = st.sidebar.slider(\"花萼长度 (cm)\", min_value=0.0, max_value=10.0, value=5.0, step=0.1)\n",
    "# 使用滑动条接收花萼宽度，设置范围为 0.0 到 10.0，默认值为 5.0\n",
    "sepal_width = st.sidebar.slider(\"花萼宽度 (cm)\", min_value=0.0, max_value=10.0, value=5.0, step=0.1)\n",
    "# 使用滑动条接收花瓣长度，设置范围为 0.0 到 10.0，默认值为 5.0\n",
    "petal_length = st.sidebar.slider(\"花瓣长度 (cm)\", min_value=0.0, max_value=10.0, value=5.0, step=0.1)\n",
    "# 使用滑动条接收花瓣宽度，设置范围为 0.0 到 10.0，默认值为 5.0\n",
    "petal_width = st.sidebar.slider(\"花瓣宽度 (cm)\", min_value=0.0, max_value=10.0, value=5.0, step=0.1)\n",
    "\n",
    "# 创建输入数据框，将输入的特征整理为 DataFrame 格式\n",
    "input_data = pd.DataFrame({\n",
    "    'sepal length (cm)': [sepal_length],\n",
    "    'sepal width (cm)': [sepal_width],\n",
    "    'petal length (cm)': [petal_length],\n",
    "    'petal width (cm)': [petal_width]\n",
    "})\n",
    "\n",
    "# 添加预测按钮，用户点击后进行模型预测\n",
    "if st.button(\"预测\"):\n",
    "    prediction = model.predict(input_data) # 使用加载的模型进行预测\n",
    "    st.write(f\"预测结果: {prediction[0]}\")\n",
    "\n",
    "    # 计算 SHAP 值\n",
    "    explainer = shap.Explainer(model)  # 或者使用 shap.TreeExplainer(model) 来计算树模型的 SHAP 值\n",
    "    shap_values = explainer(input_data)\n",
    "\n",
    "    # 提取单个样本的 SHAP 值和期望值\n",
    "    sample_shap_values = shap_values[0]  # 提取第一个样本的 SHAP 值\n",
    "    expected_value = explainer.expected_value[0]  # 获取对应输出的期望值\n",
    "\n",
    "    # 创建 Explanation 对象\n",
    "    explanation = shap.Explanation(\n",
    "        values=sample_shap_values[:, 0],  # 选择特定输出的 SHAP 值\n",
    "        base_values=expected_value,\n",
    "        data=input_data.iloc[0].values,\n",
    "        feature_names=input_data.columns.tolist()\n",
    "    )\n",
    "\n",
    "    # 保存为HTML文件\n",
    "    shap.save_html(\"shap_force_plot.html\", shap.plots.force(explanation, show=False))\n",
    "\n",
    "    # 在 Streamlit 中显示 HTML\n",
    "    st.subheader(\"模型预测的力图\")\n",
    "    with open(\"shap_force_plot.html\") as f:\n",
    "        st.components.v1.html(f.read(), height=600)\n",
    "        \n",
    "\n",
    "\n"
   ]
  },
  {
   "cell_type": "code",
   "execution_count": 7,
   "id": "c363991f-a052-4b52-968b-25a77b9c331f",
   "metadata": {},
   "outputs": [],
   "source": []
  },
  {
   "cell_type": "code",
   "execution_count": null,
   "id": "40e26a5d-f9f2-448f-bddf-131a68295fa7",
   "metadata": {},
   "outputs": [],
   "source": []
  }
 ],
 "metadata": {
  "kernelspec": {
   "display_name": "Python [conda env:base] *",
   "language": "python",
   "name": "conda-base-py"
  },
  "language_info": {
   "codemirror_mode": {
    "name": "ipython",
    "version": 3
   },
   "file_extension": ".py",
   "mimetype": "text/x-python",
   "name": "python",
   "nbconvert_exporter": "python",
   "pygments_lexer": "ipython3",
   "version": "3.13.5"
  }
 },
 "nbformat": 4,
 "nbformat_minor": 5
}
